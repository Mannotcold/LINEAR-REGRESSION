{
 "cells": [
  {
   "cell_type": "markdown",
   "metadata": {},
   "source": [
    "# <center>Đồ án 3: Linear Regression</center>"
   ]
  },
  {
   "cell_type": "markdown",
   "metadata": {},
   "source": [
    "# Thông tin sinh viên\n",
    "\n",
    "- Họ và tên: Nguyễn Hoài Mẫn\n",
    "- MSSV: 20127561\n",
    "- Lớp: 20CLC05"
   ]
  },
  {
   "cell_type": "markdown",
   "metadata": {},
   "source": [
    "# Import"
   ]
  },
  {
   "cell_type": "code",
   "execution_count": 1,
   "metadata": {},
   "outputs": [],
   "source": [
    "import pandas as pd\n",
    "import numpy as np\n",
    "# Import thêm dữ thư viện nếu cần\n",
    "from sklearn.metrics import mean_squared_error\n",
    "from sklearn.model_selection import KFold"
   ]
  },
  {
   "cell_type": "markdown",
   "metadata": {},
   "source": [
    "# Đọc dữ liệu"
   ]
  },
  {
   "cell_type": "code",
   "execution_count": 2,
   "metadata": {},
   "outputs": [],
   "source": [
    "# Đọc dữ liệu bằng pandas\n",
    "train = pd.read_csv('train.csv')\n",
    "test = pd.read_csv('test.csv')\n",
    "\n",
    "# Lấy các đặc trưng X và giá trị mục tiêu y cho các tập huấn luyện (train) và kiểm tra (test)\n",
    "X_train = train.iloc[:, :-1]    # Dataframe (chứa 10 đặc trưng huấn luyện)\n",
    "y_train = train.iloc[:, -1]     # Series    (chứa 1 giá trị mục tiêu kiểm tra)\n",
    "\n",
    "X_test = test.iloc[:, :-1]      # Dataframe (chứa 10 đặc trưng kiểm tra)\n",
    "y_test = test.iloc[:, -1]       # Series    (chứa 1 giá trị mục tiêu kiểm tra)\n",
    "\n",
    "# Sinh viên có thể sử dụng các khác nếu cần\n",
    "X_train = X_train.to_numpy()\n",
    "y_train = y_train.to_numpy()\n",
    "X_test = X_test.to_numpy()\n",
    "y_test = y_test.to_numpy()"
   ]
  },
  {
   "cell_type": "markdown",
   "metadata": {},
   "source": [
    "# Cài đặt hàm"
   ]
  },
  {
   "cell_type": "code",
   "execution_count": 3,
   "metadata": {},
   "outputs": [],
   "source": [
    "# Cài đặt các hàm cần thiết ở đây\n",
    "class OLSLinearRegression:\n",
    "    def fit(self, X, y):\n",
    "        X_pinv = np.linalg.inv(X.T @ X) @ X.T    # np.linalg.pinv(X)\n",
    "        self.w = X_pinv @ y\n",
    "\n",
    "        return self\n",
    "\n",
    "\n",
    "    def get_params(self):\n",
    "        return self.w\n",
    "\n",
    "\n",
    "    def predict(self, X):\n",
    "        return np.sum(self.w.ravel() * X, axis=1) \n",
    "    \n"
   ]
  },
  {
   "cell_type": "markdown",
   "metadata": {},
   "source": [
    "# Yêu cầu 1a: Sử dụng toàn bộ 10 đặc trưng đề bài cung cấp (2 điểm) "
   ]
  },
  {
   "cell_type": "code",
   "execution_count": 4,
   "metadata": {},
   "outputs": [
    {
     "data": {
      "text/plain": [
       "array([ 1.51013627e-02,  9.02199807e-02,  4.29218175e-02,  1.39289117e-01,\n",
       "       -5.67332827e-01, -1.00765115e-04,  7.40713438e-01,  1.90935798e-01,\n",
       "        2.45059736e+01,  2.39351661e+00])"
      ]
     },
     "execution_count": 4,
     "metadata": {},
     "output_type": "execute_result"
    }
   ],
   "source": [
    "# Phần code cho yêu cầu 1a\n",
    "lr = OLSLinearRegression().fit(X_train, y_train)\n",
    "lr.get_params()"
   ]
  },
  {
   "cell_type": "code",
   "execution_count": 5,
   "metadata": {},
   "outputs": [
    {
     "name": "stdout",
     "output_type": "stream",
     "text": [
      "7.064046430584705\n"
     ]
    }
   ],
   "source": [
    "# Gọi hàm RMSE (tự cài đặt hoặc từ thư viện) trên tập kiểm tra\n",
    "y_test_preds = lr.predict(X_test)\n",
    "rmse = mean_squared_error(y_test, y_test_preds, squared=False)\n",
    "print(rmse)"
   ]
  },
  {
   "cell_type": "markdown",
   "metadata": {},
   "source": [
    "Công thức hồi quy\n",
    "\n",
    "$$\\text{Life expectancy} = theta[1]x_1 + theta[2]x_2 + theta[3]x_3 + ... + theta[10]x_{10}$$"
   ]
  },
  {
   "cell_type": "markdown",
   "metadata": {},
   "source": [
    "# Yêu cầu 1b: Xây dựng mô hình sử dụng duy nhất 1 đặc trưng, tìm mô hình cho kết quả tốt nhất (2 điểm)"
   ]
  },
  {
   "cell_type": "markdown",
   "metadata": {},
   "source": [
    "Lưu ý: khi sử dụng cross-validation, sinh viên cần xáo trộn dữ liệu 1 lần duy nhất và thực hiện trên toàn bộ đặc trưng"
   ]
  },
  {
   "cell_type": "code",
   "execution_count": 6,
   "metadata": {},
   "outputs": [
    {
     "data": {
      "text/html": [
       "<div>\n",
       "<style scoped>\n",
       "    .dataframe tbody tr th:only-of-type {\n",
       "        vertical-align: middle;\n",
       "    }\n",
       "\n",
       "    .dataframe tbody tr th {\n",
       "        vertical-align: top;\n",
       "    }\n",
       "\n",
       "    .dataframe thead th {\n",
       "        text-align: right;\n",
       "    }\n",
       "</style>\n",
       "<table border=\"1\" class=\"dataframe\">\n",
       "  <thead>\n",
       "    <tr style=\"text-align: right;\">\n",
       "      <th></th>\n",
       "      <th>Đặc trưng</th>\n",
       "      <th>RMSE</th>\n",
       "    </tr>\n",
       "  </thead>\n",
       "  <tbody>\n",
       "    <tr>\n",
       "      <th>0</th>\n",
       "      <td>Adult Mortality</td>\n",
       "      <td>46.767300</td>\n",
       "    </tr>\n",
       "    <tr>\n",
       "      <th>1</th>\n",
       "      <td>BMI</td>\n",
       "      <td>27.963793</td>\n",
       "    </tr>\n",
       "    <tr>\n",
       "      <th>2</th>\n",
       "      <td>Polio</td>\n",
       "      <td>17.912636</td>\n",
       "    </tr>\n",
       "    <tr>\n",
       "      <th>3</th>\n",
       "      <td>Diphtheria</td>\n",
       "      <td>16.019288</td>\n",
       "    </tr>\n",
       "    <tr>\n",
       "      <th>4</th>\n",
       "      <td>HIV/AIDS</td>\n",
       "      <td>69.081327</td>\n",
       "    </tr>\n",
       "    <tr>\n",
       "      <th>5</th>\n",
       "      <td>GDP</td>\n",
       "      <td>60.450393</td>\n",
       "    </tr>\n",
       "    <tr>\n",
       "      <th>6</th>\n",
       "      <td>Thinness age 10-19</td>\n",
       "      <td>51.899815</td>\n",
       "    </tr>\n",
       "    <tr>\n",
       "      <th>7</th>\n",
       "      <td>Thinness age 5-9</td>\n",
       "      <td>51.775059</td>\n",
       "    </tr>\n",
       "    <tr>\n",
       "      <th>8</th>\n",
       "      <td>Income composition of resources</td>\n",
       "      <td>13.299791</td>\n",
       "    </tr>\n",
       "    <tr>\n",
       "      <th>9</th>\n",
       "      <td>Schooling</td>\n",
       "      <td>11.820071</td>\n",
       "    </tr>\n",
       "  </tbody>\n",
       "</table>\n",
       "</div>"
      ],
      "text/plain": [
       "                         Đặc trưng       RMSE\n",
       "0                  Adult Mortality  46.767300\n",
       "1                              BMI  27.963793\n",
       "2                            Polio  17.912636\n",
       "3                       Diphtheria  16.019288\n",
       "4                         HIV/AIDS  69.081327\n",
       "5                              GDP  60.450393\n",
       "6               Thinness age 10-19  51.899815\n",
       "7                 Thinness age 5-9  51.775059\n",
       "8  Income composition of resources  13.299791\n",
       "9                        Schooling  11.820071"
      ]
     },
     "execution_count": 6,
     "metadata": {},
     "output_type": "execute_result"
    }
   ],
   "source": [
    "# Phần code cho yêu cầu 1b\n",
    "X_train = train.iloc[:, :-1].to_numpy()\n",
    "y_train = train.iloc[:, -1].to_numpy()\n",
    "\n",
    "# Lấy danh sách các header của bộ dữ liệu.\n",
    "headers = list(train.columns.values)\n",
    "# Chuyển đổi bộ dữ liệu sang kiểu numpy array để dễ dàng thao tác.\n",
    "data = np.array(X_train)\n",
    "# Kết quả của phương pháp hồi quy tuyến tính áp dụng trên 1 bộ dữ liệu.\n",
    "def Table(data, headers):\n",
    "        \n",
    "    x_hat_data = []\n",
    "    for i in range(10):\n",
    "        row = []\n",
    "        row.append(headers[i])\n",
    "        row.append(data[i])\n",
    "        x_hat_data.append(row)\n",
    "    \n",
    "    return pd.DataFrame(x_hat_data, columns=['Đặc trưng', 'RMSE'])\n",
    "\n",
    "# Tìm ra đặc trưng tốt nhất\n",
    "def ChooseBest_b(X, y):\n",
    "    result = []\n",
    "\n",
    "    for i in range(X.shape[1]):\n",
    "        rmse = Cross_Validation(X[:, i:i + 1], y)\n",
    "        result.append(rmse)\n",
    "    \n",
    "    return result, np.argmin(result)\n",
    "# In ra các kết quả cross-validation như yêu cầu\n",
    "def Cross_Validation(X, y):\n",
    "    kf = KFold(n_splits= 5)\n",
    "    list = []\n",
    "    rmse = 0\n",
    "    for train_index, test_index in kf.split(X):\n",
    "        X_train, X_test = X[train_index], X[test_index]\n",
    "        y_train, y_test = y[train_index], y[test_index]\n",
    "        lr = OLSLinearRegression().fit(X_train, y_train)\n",
    "        y_k_val_pred = lr.predict(X_test)\n",
    "        list.append(mean_squared_error( y_test, y_k_val_pred, squared=False))\n",
    "        rmse += mean_squared_error( y_test, y_k_val_pred, squared=False)\n",
    "\n",
    "    return rmse/5\n",
    "result, BestIdx = ChooseBest_b(X_train, y_train)\n",
    "Table(result, headers)"
   ]
  },
  {
   "cell_type": "code",
   "execution_count": 7,
   "metadata": {},
   "outputs": [
    {
     "data": {
      "text/plain": [
       "array([5.5573994])"
      ]
     },
     "execution_count": 7,
     "metadata": {},
     "output_type": "execute_result"
    }
   ],
   "source": [
    "# Huấn luyện lại mô hình best_feature_model với đặc trưng tốt nhất trên toàn bộ tập huấn luyện\n",
    "lr = OLSLinearRegression().fit(X_train[:, BestIdx].reshape(-1, 1), y_train)\n",
    "lr.get_params()"
   ]
  },
  {
   "cell_type": "code",
   "execution_count": 8,
   "metadata": {},
   "outputs": [
    {
     "data": {
      "text/plain": [
       "10.26095039165537"
      ]
     },
     "execution_count": 8,
     "metadata": {},
     "output_type": "execute_result"
    }
   ],
   "source": [
    "# Gọi hàm RMSE (tự cài đặt hoặc từ thư viện) trên tập kiểm tra với mô hình best_feature_model\n",
    "mean_squared_error(y_test, lr.predict(X_test[:, BestIdx].reshape(-1, 1)), squared=False)"
   ]
  },
  {
   "cell_type": "markdown",
   "metadata": {},
   "source": [
    "Công thức hồi quy\n",
    "\n",
    "$$\\text{Life expectancy} = theta[10]*x_{10}$$"
   ]
  },
  {
   "cell_type": "markdown",
   "metadata": {},
   "source": [
    "# Yêu cầu 1c: Sinh viên tự xây dựng mô hình, tìm mô hình cho kết quả tốt nhất (3 điểm)"
   ]
  },
  {
   "cell_type": "markdown",
   "metadata": {},
   "source": [
    "Lưu ý: khi sử dụng cross-validation, sinh viên cần xáo trộn dữ liệu 1 lần duy nhất và thực hiện trên toàn bộ $m$ mô hình mà sinh viên thiết kế"
   ]
  },
  {
   "cell_type": "code",
   "execution_count": 9,
   "metadata": {},
   "outputs": [
    {
     "data": {
      "text/html": [
       "<div>\n",
       "<style scoped>\n",
       "    .dataframe tbody tr th:only-of-type {\n",
       "        vertical-align: middle;\n",
       "    }\n",
       "\n",
       "    .dataframe tbody tr th {\n",
       "        vertical-align: top;\n",
       "    }\n",
       "\n",
       "    .dataframe thead th {\n",
       "        text-align: right;\n",
       "    }\n",
       "</style>\n",
       "<table border=\"1\" class=\"dataframe\">\n",
       "  <thead>\n",
       "    <tr style=\"text-align: right;\">\n",
       "      <th></th>\n",
       "      <th>Mô hình</th>\n",
       "      <th>RMSE</th>\n",
       "    </tr>\n",
       "  </thead>\n",
       "  <tbody>\n",
       "    <tr>\n",
       "      <th>0</th>\n",
       "      <td>Sử dụng một đặt trưng Schooling</td>\n",
       "      <td>6.197766</td>\n",
       "    </tr>\n",
       "    <tr>\n",
       "      <th>1</th>\n",
       "      <td>Sử dụng hai đặt trưng có biến đổi Schooling và...</td>\n",
       "      <td>5.004816</td>\n",
       "    </tr>\n",
       "    <tr>\n",
       "      <th>2</th>\n",
       "      <td>Sử dụng hai đặt trưng có biến đổi Schooling(Sc...</td>\n",
       "      <td>5.555097</td>\n",
       "    </tr>\n",
       "  </tbody>\n",
       "</table>\n",
       "</div>"
      ],
      "text/plain": [
       "                                             Mô hình      RMSE\n",
       "0                    Sử dụng một đặt trưng Schooling  6.197766\n",
       "1  Sử dụng hai đặt trưng có biến đổi Schooling và...  5.004816\n",
       "2  Sử dụng hai đặt trưng có biến đổi Schooling(Sc...  5.555097"
      ]
     },
     "execution_count": 9,
     "metadata": {},
     "output_type": "execute_result"
    }
   ],
   "source": [
    "# Phần code cho yêu cầu 1c\n",
    "def Table_c(data):\n",
    "    x_hat_data = []\n",
    "    headers = []\n",
    "    headers.append('Sử dụng một đặt trưng Schooling')\n",
    "    headers.append('Sử dụng hai đặt trưng có biến đổi Schooling và Income composition of resources')\n",
    "    headers.append('Sử dụng hai đặt trưng có biến đổi Schooling(Schooling và Income composition of resources)')\n",
    "    \n",
    "    for i in range(3):\n",
    "        row = []\n",
    "        row.append(headers[i])\n",
    "        row.append(data[i])\n",
    "        x_hat_data.append(row)\n",
    "    \n",
    "    return pd.DataFrame(x_hat_data, columns=['Mô hình', 'RMSE'])\n",
    "#Mô hình tuyến tính:  𝑌=𝜃0+𝜃9ln(𝑋9^2)\n",
    "def preproces1(x10, y):\n",
    "    X = np.hstack((np.ones((x10.shape[0], 1)), np.log(x10**2)))\n",
    "    \n",
    "    return X, y\n",
    "\n",
    "#Mô hình tuyến tính:  𝑌=𝜃0+𝜃9𝑋9^3+𝜃10X10^5 .\n",
    "def preproces2(x9,x10, y):\n",
    "    X = np.hstack((np.ones((x9.shape[0], 1)),x9**3, x10**5))\n",
    "    \n",
    "    return X, y\n",
    "\n",
    "#Mô hình tuyến tính:  𝑌=𝜃0 + 𝜃9𝑋9 + 𝜃10X10^5 .\n",
    "def preproces3(x9,x10, y):\n",
    "    X = np.hstack((np.ones((x9.shape[0], 1)),x9, x10**5))\n",
    "    return X, y\n",
    "\n",
    "# Tìm ra mô hình tốt nhất (tự thiết kế bởi sinh viên)\n",
    "def ChooseBest_c(X, y):\n",
    "    result = []\n",
    "    rmse1 = Cross_Validation1(X, y)\n",
    "    rmse2 = Cross_Validation2(X, y)\n",
    "    rmse3 = Cross_Validation3(X, y)\n",
    "    result.append(rmse1)\n",
    "    result.append(rmse2)\n",
    "    result.append(rmse3)\n",
    "    return result, np.argmin(result)\n",
    "# In ra các kết quả cross-validation như yêu cầu\n",
    "\n",
    "def Cross_Validation3(A, b):\n",
    "    kf = KFold(n_splits= 5)\n",
    "    error_list = []\n",
    "    rmse = 0\n",
    "\n",
    "    for train_index, test_index in kf.split(A):\n",
    "        A_train, A_test = A[train_index], A[test_index]\n",
    "        b_train, b_test = b[train_index], b[test_index]\n",
    "        X, y = preproces3(A_train[:, 0].reshape(-1, 1), A_train[:, 1].reshape(-1, 1), b_train.reshape(-1, 1))\n",
    "        #A_train[:, 0].reshape(-1, 1) :lay het tat ca dong tren cot so 0\n",
    "        l = OLSLinearRegression().fit(X, y)\n",
    "        X_t, y_t = preproces3(A_test[:, 0].reshape(-1, 1), A_test[:,1].reshape(-1, 1), b_test.reshape(-1, 1))\n",
    "        x = l.get_params()\n",
    "        bias = l.predict(X_t)\n",
    "        rmse+= mean_squared_error( y_t, bias, squared=False)\n",
    "\n",
    "    return rmse/5\n",
    "\n",
    "def Cross_Validation2(A, b):\n",
    "    kf = KFold(n_splits= 5)\n",
    "    error_list = []\n",
    "    rmse = 0\n",
    "\n",
    "    for train_index, test_index in kf.split(A):\n",
    "        A_train, A_test = A[train_index], A[test_index]\n",
    "        b_train, b_test = b[train_index], b[test_index]\n",
    "        X, y = preproces2(A_train[:, 8].reshape(-1, 1), A_train[:, 9].reshape(-1, 1), b_train.reshape(-1, 1))\n",
    "        #A_train[:, 0].reshape(-1, 1) :lay het tat ca dong tren cot so 0\n",
    "        l = OLSLinearRegression().fit(X, y)\n",
    "        X_t, y_t = preproces2(A_test[:, 8].reshape(-1, 1), A_test[:,9].reshape(-1, 1), b_test.reshape(-1, 1))\n",
    "        x = l.get_params()\n",
    "        bias = l.predict(X_t)\n",
    "        rmse+= mean_squared_error( y_t, bias, squared=False)\n",
    "\n",
    "    return rmse/5\n",
    "\n",
    "def Cross_Validation1(A, b):\n",
    "    kf = KFold(n_splits= 5)\n",
    "    error_list = []\n",
    "    rmse = 0\n",
    "    for train_index, test_index in kf.split(A):\n",
    "        A_train, A_test = A[train_index], A[test_index]\n",
    "        b_train, b_test = b[train_index], b[test_index]\n",
    "        X, y = preproces1(A_train[:, 9].reshape(-1, 1), b_train.reshape(-1, 1))\n",
    "        l = OLSLinearRegression().fit(X, y)\n",
    "        X_t, y_t = preproces1(A_test[:, 9].reshape(-1, 1), b_test.reshape(-1, 1))\n",
    "        #x = l.get_params()\n",
    "        bias = l.predict(X_t)\n",
    "        rmse+= mean_squared_error( y_t, bias, squared=False)\n",
    "    return rmse/5\n",
    "\n",
    "a, b=ChooseBest_c(X_train, y_train)\n",
    "a,b\n",
    "Table_c(a)"
   ]
  },
  {
   "cell_type": "code",
   "execution_count": 11,
   "metadata": {},
   "outputs": [
    {
     "data": {
      "text/plain": [
       "(array([ 5.68663368e+01,  4.50617260e+01, -3.59447151e-06]),\n",
       " 3.9085214376440356)"
      ]
     },
     "execution_count": 11,
     "metadata": {},
     "output_type": "execute_result"
    }
   ],
   "source": [
    "# Huấn luyện lại mô hình my_best_model trên toàn bộ tập huấn luyện\n",
    "X, y = preproces2(X_test[:, 8].reshape(-1, 1), X_test[:, 9].reshape(-1, 1), y_test)\n",
    "lr = OLSLinearRegression().fit( X, y)\n",
    "lr.get_params(),mean_squared_error(y, lr.predict(X), squared=False)\n",
    "\n"
   ]
  },
  {
   "cell_type": "code",
   "execution_count": 12,
   "metadata": {},
   "outputs": [
    {
     "data": {
      "text/plain": [
       "4.926736017593664"
      ]
     },
     "execution_count": 12,
     "metadata": {},
     "output_type": "execute_result"
    }
   ],
   "source": [
    "# Gọi hàm RMSE (tự cài đặt hoặc từ thư viện) trên tập kiểm tra với mô hình my_best_model\n",
    "X, y = preproces2(X_train[:, 8].reshape(-1, 1), X_train[:, 9].reshape(-1, 1), y_train)\n",
    "lr = OLSLinearRegression().fit( X, y)\n",
    "lr.get_params()\n",
    "mean_squared_error(y, lr.predict(X), squared=False)"
   ]
  },
  {
   "cell_type": "markdown",
   "metadata": {},
   "source": [
    "Công thức hồi quy\n",
    "\n",
    "$$\\text{Life expectancy} = theta[0] + theta[9] * x_9^3 + theta[10]*x_{10}^5$$"
   ]
  },
  {
   "cell_type": "code",
   "execution_count": null,
   "metadata": {},
   "outputs": [],
   "source": []
  }
 ],
 "metadata": {
  "kernelspec": {
   "display_name": "base",
   "language": "python",
   "name": "python3"
  },
  "language_info": {
   "codemirror_mode": {
    "name": "ipython",
    "version": 3
   },
   "file_extension": ".py",
   "mimetype": "text/x-python",
   "name": "python",
   "nbconvert_exporter": "python",
   "pygments_lexer": "ipython3",
   "version": "3.9.12 (main, Apr  4 2022, 05:22:27) [MSC v.1916 64 bit (AMD64)]"
  },
  "vscode": {
   "interpreter": {
    "hash": "5dfae695991f40f7f711b859ebe4404a578ce2940a1c2f7058c1cb98bd497b2c"
   }
  }
 },
 "nbformat": 4,
 "nbformat_minor": 2
}
